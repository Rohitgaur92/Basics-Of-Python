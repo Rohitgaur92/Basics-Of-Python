{
 "cells": [
  {
   "cell_type": "markdown",
   "metadata": {},
   "source": [
    "## Functions\n",
    "1. Built-in Functions\n",
    "2. User defined Functions"
   ]
  },
  {
   "cell_type": "code",
   "execution_count": 1,
   "metadata": {},
   "outputs": [
    {
     "name": "stdout",
     "output_type": "stream",
     "text": [
      "w\n"
     ]
    }
   ],
   "source": [
    "result = max('Hello world')             # apply a in-built function max() on 'Hello world' and returns the maximum character \n",
    "print(result)"
   ]
  },
  {
   "cell_type": "code",
   "execution_count": 8,
   "metadata": {},
   "outputs": [],
   "source": [
    "def thing():                            # define a function thing that prints \"Hello\" and \"Fun\"\n",
    "    print(\"Hello\")\n",
    "    print(\"Fun\")"
   ]
  },
  {
   "cell_type": "code",
   "execution_count": 3,
   "metadata": {},
   "outputs": [
    {
     "data": {
      "text/plain": [
       "function"
      ]
     },
     "execution_count": 3,
     "metadata": {},
     "output_type": "execute_result"
    }
   ],
   "source": [
    "type(thing)                             "
   ]
  },
  {
   "cell_type": "code",
   "execution_count": 9,
   "metadata": {},
   "outputs": [
    {
     "name": "stdout",
     "output_type": "stream",
     "text": [
      "Hello\n",
      "Fun\n"
     ]
    }
   ],
   "source": [
    "thing()                              # Function call"
   ]
  },
  {
   "cell_type": "code",
   "execution_count": 5,
   "metadata": {},
   "outputs": [],
   "source": [
    "thing = 10                           # variables used to define a function acts as a new reserved keywords"
   ]
  },
  {
   "cell_type": "code",
   "execution_count": 6,
   "metadata": {},
   "outputs": [
    {
     "data": {
      "text/plain": [
       "int"
      ]
     },
     "execution_count": 6,
     "metadata": {},
     "output_type": "execute_result"
    }
   ],
   "source": [
    "type(thing)"
   ]
  },
  {
   "cell_type": "code",
   "execution_count": 10,
   "metadata": {},
   "outputs": [
    {
     "name": "stdout",
     "output_type": "stream",
     "text": [
      "Hello\n",
      "Fun\n"
     ]
    }
   ],
   "source": [
    "thing()"
   ]
  },
  {
   "cell_type": "code",
   "execution_count": 11,
   "metadata": {},
   "outputs": [],
   "source": [
    "def greet(lang):\n",
    "    if lang == 'es':\n",
    "        return (\"Hola\")\n",
    "    elif lang == 'fr':\n",
    "        return (\"Bonjour\")\n",
    "    else:\n",
    "        return (\"Hello\")"
   ]
  },
  {
   "cell_type": "code",
   "execution_count": 16,
   "metadata": {},
   "outputs": [
    {
     "data": {
      "text/plain": [
       "'Hello'"
      ]
     },
     "execution_count": 16,
     "metadata": {},
     "output_type": "execute_result"
    }
   ],
   "source": [
    "greet('en')"
   ]
  },
  {
   "cell_type": "code",
   "execution_count": 17,
   "metadata": {},
   "outputs": [
    {
     "name": "stdout",
     "output_type": "stream",
     "text": [
      "Hello Pranali\n"
     ]
    }
   ],
   "source": [
    "print(greet('en') + ' Pranali')"
   ]
  },
  {
   "cell_type": "code",
   "execution_count": 18,
   "metadata": {},
   "outputs": [],
   "source": [
    "max()"
   ]
  },
  {
   "cell_type": "code",
   "execution_count": 22,
   "metadata": {},
   "outputs": [
    {
     "data": {
      "text/plain": [
       "'Hello'"
      ]
     },
     "execution_count": 22,
     "metadata": {},
     "output_type": "execute_result"
    }
   ],
   "source": [
    "greet()"
   ]
  },
  {
   "cell_type": "markdown",
   "metadata": {},
   "source": [
    "<h1>\n",
    "              Function Design Recipe\n",
    "          </h1>\n",
    "          <h3>\n",
    "              The Six Steps\n",
    "          </h3>\n",
    "          <ol>\n",
    "              <li>\n",
    "                  <b>Examples</b>\n",
    "                  <ul>\n",
    "                      <li>What should your function do?\n",
    "                      </li>\n",
    "                      <li>Type a couple of example calls.\n",
    "                      </li>\n",
    "                      <li>Pick a name (often a verb or verb phrase): What is a short answer to \"What does your function do\"?\n",
    "                      </li>\n",
    "                  </ul>\n",
    "              </li>\n",
    "              <li>\n",
    "                  <b>Type Contract</b>\n",
    "                  <ul>\n",
    "                      <li>What are the parameter types?\n",
    "                      </li>\n",
    "                      <li>What type of value is returned?\n",
    "                      </li>\n",
    "                  </ul>\n",
    "              </li>\n",
    "              <li>\n",
    "                  <b>Header</b>\n",
    "                  <ul>\n",
    "                      <li>Pick meaningful parameter names.\n",
    "                      </li>\n",
    "                  </ul>\n",
    "              </li>\n",
    "              <li>\n",
    "                  <b>Description</b>\n",
    "                  <ul>\n",
    "                      <li>Mention every parameter in your description.\n",
    "                      </li>\n",
    "                      <li>Describe the return value.\n",
    "                      </li>\n",
    "                  </ul>\n",
    "              </li>\n",
    "              <li>\n",
    "                  <b>Body</b>\n",
    "                  <ul>\n",
    "                      <li>Write the body of your function.\n",
    "                      </li>\n",
    "                  </ul>\n",
    "              </li>\n",
    "              <li>\n",
    "                  <b>Test</b>\n",
    "                  <ul>\n",
    "                      <li>Run the examples.\n",
    "                      </li>\n",
    "                  </ul>\n",
    "              </li>\n",
    "          </ol>\n",
    "               "
   ]
  },
  {
   "cell_type": "markdown",
   "metadata": {},
   "source": [
    "<p>\n",
    "              <b>The problem:</b>\n",
    "          </p>\n",
    "          <p>\n",
    "              The United States measures temperature in Fahrenheit and Canada measures it in Celsius. When travelling between the two countries it helps to have a conversion function. Write a function that converts from Fahrenheit to Celsius."
   ]
  },
  {
   "cell_type": "code",
   "execution_count": 24,
   "metadata": {},
   "outputs": [],
   "source": [
    "def convert_to_celsius(fahrenheit):\n",
    "    ''' (number) -> number\n",
    "\n",
    "     Return the number of Celsius degrees equivalent to fahrenheit degrees.\n",
    "\n",
    "     >>> convert_to_celsius(32)\n",
    "     0\n",
    "     >>> convert_to_celsius(212)\n",
    "     100\n",
    "     '''\n",
    "    return (fahrenheit - 32) * 5 / 9       "
   ]
  },
  {
   "cell_type": "code",
   "execution_count": 25,
   "metadata": {},
   "outputs": [
    {
     "data": {
      "text/plain": [
       "37.77777777777778"
      ]
     },
     "execution_count": 25,
     "metadata": {},
     "output_type": "execute_result"
    }
   ],
   "source": [
    "convert_to_celsius(100)"
   ]
  },
  {
   "cell_type": "markdown",
   "metadata": {},
   "source": [
    "### Exercise 1: Rewrite your pay computation with time-and-a-half for overtime and create a function called computepay which takes two parameters ( hours and rate)."
   ]
  },
  {
   "cell_type": "code",
   "execution_count": 26,
   "metadata": {},
   "outputs": [],
   "source": [
    "def computepay(hours,rate):\n",
    "    if hours>40:\n",
    "        pay = 40*rate + (hours-40)*1.5*rate\n",
    "    else:\n",
    "        pay= hours*rate\n",
    "    return pay"
   ]
  },
  {
   "cell_type": "code",
   "execution_count": 27,
   "metadata": {},
   "outputs": [
    {
     "data": {
      "text/plain": [
       "475.0"
      ]
     },
     "execution_count": 27,
     "metadata": {},
     "output_type": "execute_result"
    }
   ],
   "source": [
    "computepay(45,10)"
   ]
  },
  {
   "cell_type": "markdown",
   "metadata": {},
   "source": [
    "### Assignment 1: Create a user defined function using function design recipe for calculating the area of a triangle."
   ]
  },
  {
   "cell_type": "code",
   "execution_count": 1,
   "metadata": {},
   "outputs": [],
   "source": [
    "def area_of_triangle(base, height):\n",
    "    '''\n",
    "        (number,number) -> number\n",
    "        \n",
    "        calculates the area of triangle for the given base and height\n",
    "        \n",
    "        >>> area_of_triangle(10,5)\n",
    "        25.0\n",
    "        \n",
    "    '''\n",
    "    return 0.5*base*height"
   ]
  },
  {
   "cell_type": "code",
   "execution_count": 4,
   "metadata": {},
   "outputs": [
    {
     "name": "stdout",
     "output_type": "stream",
     "text": [
      "Enter the base of triangle6.8\n",
      "enter the height of triangle3.5\n"
     ]
    },
    {
     "data": {
      "text/plain": [
       "11.9"
      ]
     },
     "execution_count": 4,
     "metadata": {},
     "output_type": "execute_result"
    }
   ],
   "source": [
    "base = float(input(\"Enter the base of triangle\"))\n",
    "height = float(input(\"enter the height of triangle\"))\n",
    "area_of_triangle(base,height)"
   ]
  },
  {
   "cell_type": "code",
   "execution_count": 5,
   "metadata": {},
   "outputs": [
    {
     "data": {
      "text/plain": [
       "13.299999999999999"
      ]
     },
     "execution_count": 5,
     "metadata": {},
     "output_type": "execute_result"
    }
   ],
   "source": [
    "max(area_of_triangle(7,3.8),area_of_triangle(6.8,3.5))"
   ]
  },
  {
   "cell_type": "markdown",
   "metadata": {},
   "source": [
    "## Calling functions within other function definitions"
   ]
  },
  {
   "cell_type": "code",
   "execution_count": 28,
   "metadata": {},
   "outputs": [],
   "source": [
    "def perimeter(side1,side2,side3):\n",
    "    return side1+side2+side3\n",
    "\n",
    "def semiperimeter(side1,side2,side3):\n",
    "    return perimeter(side1,side2,side3)/2"
   ]
  },
  {
   "cell_type": "code",
   "execution_count": 29,
   "metadata": {},
   "outputs": [
    {
     "data": {
      "text/plain": [
       "60"
      ]
     },
     "execution_count": 29,
     "metadata": {},
     "output_type": "execute_result"
    }
   ],
   "source": [
    "perimeter(10,20,30)"
   ]
  },
  {
   "cell_type": "code",
   "execution_count": 30,
   "metadata": {},
   "outputs": [
    {
     "data": {
      "text/plain": [
       "30.0"
      ]
     },
     "execution_count": 30,
     "metadata": {},
     "output_type": "execute_result"
    }
   ],
   "source": [
    "semiperimeter(10,20,30)"
   ]
  },
  {
   "cell_type": "code",
   "execution_count": 1,
   "metadata": {},
   "outputs": [
    {
     "name": "stdout",
     "output_type": "stream",
     "text": [
      "<class 'tuple'>\n"
     ]
    }
   ],
   "source": [
    "def mf():\n",
    "    x={'a':2,'b':1}\n",
    "    y={'b':3,'c':4}\n",
    "    a=[{*x,*y}]\n",
    "    return a,{**x,**y}\n",
    "z= mf()\n",
    "print(type(z))\n",
    "    "
   ]
  },
  {
   "cell_type": "code",
   "execution_count": 23,
   "metadata": {},
   "outputs": [
    {
     "name": "stdout",
     "output_type": "stream",
     "text": [
      "None\n",
      "[3, 4, 5]\n"
     ]
    }
   ],
   "source": [
    "def increment_items(L,increment):\n",
    "\ti=0\n",
    "\twhile i < len(L):\n",
    "\t\tL[i] = L[i] + increment\n",
    "\t\ti = i + 1\n",
    "values = [1,2,3]\n",
    "print(increment_items(values,2))\n",
    "print(values)"
   ]
  },
  {
   "cell_type": "code",
   "execution_count": 26,
   "metadata": {},
   "outputs": [],
   "source": [
    "a = 1,2,3,4,5"
   ]
  },
  {
   "cell_type": "code",
   "execution_count": 30,
   "metadata": {},
   "outputs": [
    {
     "data": {
      "text/plain": [
       "True"
      ]
     },
     "execution_count": 30,
     "metadata": {},
     "output_type": "execute_result"
    }
   ],
   "source": [
    "t1 = ('Parth','Puja','Amit')\n",
    "t2 = ('Pari', 'Punit', 'Amita')\n",
    "t1 > t2"
   ]
  },
  {
   "cell_type": "code",
   "execution_count": null,
   "metadata": {},
   "outputs": [],
   "source": []
  },
  {
   "cell_type": "code",
   "execution_count": null,
   "metadata": {},
   "outputs": [],
   "source": [
    "#assignment"
   ]
  },
  {
   "cell_type": "code",
   "execution_count": null,
   "metadata": {},
   "outputs": [],
   "source": [
    "Which of the following results in a syntax error?\n",
    "Select one or more:\n",
    "'''yesno''' \n",
    "'yes\\nno' \n",
    "'yes\n",
    "    no' \n",
    "\"yes\n",
    "    no\" \n",
    "Feedback\n",
    "Your answer is correct.\n",
    "The correct answers are: 'yes\n",
    "    no', \"yes\n",
    "    no\"\n",
    "Question 2\n",
    "Partially correct\n",
    "Mark 0.50 out of 1.00\n",
    "Flag question\n",
    "Question text\n",
    "The following is printed by a print function call:\n",
    "hello-how-are-you\n",
    "Select the function call that prints what is shown above.\n",
    "Select one or more:\n",
    "print('hello','how','are','you') \n",
    "print('hello', 'how','are','you','+'-'*4) \n",
    "print('hello' + '-' + 'how' + '-' + 'are' + '- ' + 'you') \n",
    "print('hello-'+'how-are-you') \n",
    "Feedback\n",
    "Your answer is partially correct.\n",
    "You have correctly selected 1.\n",
    "The correct answers are: print('hello-'+'how-are-you'), print('hello' + '-' + 'how' + '-' + 'are' + '- ' + 'you')\n",
    "Question 3\n",
    "Correct\n",
    "Mark 1.00 out of 1.00\n",
    "Flag question\n",
    "Question text\n",
    "Consider the following statements:\n",
    "x=None\n",
    "print(x)\n",
    "What is printed when the code above executes?\n",
    "Select one:\n",
    "0 \n",
    "None Type \n",
    "'' \n",
    "None \n",
    "Feedback\n",
    "Your answer is correct.\n",
    "The correct answer is: None\n",
    "Question 4\n",
    "Incorrect\n",
    "Mark 0.00 out of 1.00\n",
    "Flag question\n",
    "Question text\n",
    "What is the Type Contract for the following function definition?\n",
    "def is_passing_grade(grade):\n",
    "    \"\"\" Return 'pass' if grade is at least 50 and return 'fail' otherwise.\n",
    "    >>> is_passing_grade(45)\n",
    "    'fail'\n",
    "    >>> is_passing_grade(80.5)\n",
    "    'pass'\n",
    "    \"\"\"\n",
    "Select one:\n",
    "(number) -> str \n",
    "(int,float) -> str \n",
    "(int) -> str \n",
    "(float) -> str \n",
    "Feedback\n",
    "Your answer is incorrect.\n",
    "The correct answer is: (number) -> str\n",
    "Question 5\n",
    "Correct\n",
    "Mark 1.00 out of 1.00\n",
    "Flag question\n",
    "Question text\n",
    "Select the expressions that produce True.\n",
    "Select one or more:\n",
    "a. len('deed') == 4 \n",
    "b. 'bit' in 'habit' \n",
    "c. 'sit' in 'tis' \n",
    "d. len('deed') == 2 \n",
    "Feedback\n",
    "Your answer is correct.\n",
    "The correct answers are: len('deed') == 4, 'bit' in 'habit'\n",
    "Question 6\n",
    "Correct\n",
    "Mark 1.00 out of 1.00\n",
    "Flag question\n",
    "Question text\n",
    "After the following assignment statement has been executed, which expressions produce the letter 'g'?\n",
    "dance_style = 'Gangnam'\n",
    "Select one or more:\n",
    "dance_style[4] \n",
    "dance_style[-4] \n",
    "dance_style[3] \n",
    "dance_style[2] \n",
    "Feedback\n",
    "Your answer is correct.\n",
    "The correct answers are: dance_style[-4], dance_style[3]\n",
    "Question 7\n",
    "Correct\n",
    "Mark 1.00 out of 1.00\n",
    "Flag question\n",
    "Question text\n",
    "Consider the code:\n",
    "s = 'carrot'\n",
    "Select the expressions that produce 'car'.\n",
    "Select one or more:\n",
    "s[-6:4] \n",
    "s[-1:3] \n",
    "s[-6:-3] \n",
    "s[-6:3] \n",
    "Feedback\n",
    "Your answer is correct.\n",
    "The correct answers are: s[-6:-3], s[-6:3]\n",
    "Question 8\n",
    "Correct\n",
    "Mark 1.00 out of 1.00\n",
    "Flag question\n",
    "Question text\n",
    "Conside the code:\n",
    "vehicle = 'car'\n",
    "What string does the expression vehicle[-1]+vehicle[1]+vehicle[:1]+'e'+vehicle produce?\n",
    "Select one:\n",
    "'raecar' \n",
    "'racecar' \n",
    "'race' \n",
    "'carecar' \n",
    "Feedback\n",
    "Your answer is correct.\n",
    "The correct answer is: 'racecar'\n",
    "Question 9\n",
    "Correct\n",
    "Mark 1.00 out of 1.00\n",
    "Flag question\n",
    "Question text\n",
    "Select the expressions that produce True.\n",
    "Select one or more:\n",
    "'12.34'.isalnum() \n",
    "'abc123'.isdigit() \n",
    "'abc123'.isalnum() \n",
    "'apple'.upper().isupper() \n",
    "Feedback\n",
    "Your answer is correct.\n",
    "The correct answers are: 'abc123'.isalnum(), 'apple'.upper().isupper()\n",
    "Question 10\n",
    "Partially correct\n",
    "Mark 0.67 out of 1.00\n",
    "Flag question\n",
    "Question text\n",
    "Select the expressions that evaluate to True.\n",
    "Select one or more:\n",
    "int('3') in [len('a'),len('ab'),len('abc')] \n",
    "len([1,2,3]) == len(['a','b','c']) \n",
    "All of the above \n",
    "len('mom') in [1,2,3] \n",
    "'a' in ['mam', 'dad'] \n",
    "Feedback\n",
    "Your answer is partially correct.\n",
    "You have correctly selected 2.\n",
    "The correct answers are: len('mom') in [1,2,3], int('3') in [len('a'),len('ab'),len('abc')], len([1,2,3]) == len(['a','b','c'])\n",
    "Question 11\n",
    "Incorrect\n",
    "Mark 0.00 out of 1.00\n",
    "Flag question\n",
    "Question text\n",
    "Consider the code:\n",
    "def secret(s):\n",
    "   i = 0\n",
    "   result = ''\n",
    "   while s[i].isdigit():\n",
    "      result = result + s[i]\n",
    "      i = i+1\n",
    "   return result\n",
    "Select the function calls that result in error.\n",
    "Select one:\n",
    "secret('abc123') \n",
    "secret('abc') \n",
    "secret('123abc') \n",
    "secret('123') \n",
    "Feedback\n",
    "Your answer is incorrect.\n",
    "The correct answer is: secret('123')\n",
    "Question 12\n",
    "Incorrect\n",
    "Mark 0.00 out of 1.00\n",
    "Flag question\n",
    "Question text\n",
    "Consider the code:\n",
    "def example(L):\n",
    "\t\"\"\" (list) -> list\n",
    "\t\"\"\"\n",
    "\ti = 0\n",
    "\tresult = []\n",
    "\twhile i < len(L):\n",
    "\t\tresult.append(L[i])\n",
    "\t\ti = i + 3\n",
    "\treturn result\n",
    "Which is the best 'docstring' description for function example?\n",
    "Select one:\n",
    "Return a list containing every third item from L starting at index 0. \n",
    "Return a list containing every third index from L starting at index 0. \n",
    "Return a list containing the items from L starting from index 0, omitting every third item. \n",
    "Return an empty list.  \n",
    "Feedback\n",
    "Your answer is incorrect.\n",
    "The correct answer is: Return a list containing every third item from L starting at index 0.\n",
    "Question 13\n",
    "Correct\n",
    "Mark 1.00 out of 1.00\n",
    "Flag question\n",
    "Question text\n",
    "Consider the following code segment:\n",
    "def compress_list(L):\n",
    "\t\"\"\" (list of str) -> list of str\n",
    "\tReturn a new list with adjacent pairs of string elements from L concatenated \n",
    "\ttogether, starting with indices 0 and 1, 2 and 3, and so on.\n",
    "\tPrecondition: len(L) >= 2 and len(L) % 2 == 0\n",
    "\t>>> compress_list(['a','b','c','d'])\n",
    "\t['ab','cd']\n",
    "\t\"\"\"\n",
    "\tcompressed_list = []\n",
    "\ti = 0\n",
    "\twhile i < len(L):\n",
    "\t\tcompressed_list.append(L[i] + L[i+1])\n",
    "\t\t# Missing code here\n",
    "\treturn compressed_list\n",
    "Select the missing line of the code.\n",
    "Select one:\n",
    "i = i+2 \n",
    "i = i+1 \n",
    "i = i*2 \n",
    "i = i+i \n",
    "Feedback\n",
    "Your answer is correct.\n",
    "The correct answer is: i = i+2\n",
    "Question 14\n",
    "Correct\n",
    "Mark 1.00 out of 1.00\n",
    "Flag question\n",
    "Question text\n",
    "Consider the code:\n",
    "fruits = ['banana','apple','pear','peach']\n",
    "fruits.insert(fruits.index('pear'),'watermelon')\n",
    "print(fruits)\n",
    "What is printed by the code above?\n",
    "Select one:\n",
    "['banana','apple','watermelon','pear','peach'] \n",
    "['banana','apple','watermelon','peach'] \n",
    "['banana','watermelon','apple','pear','peach'] \n",
    "['banana','apple','pear','watermelon','peach'] \n",
    "Feedback\n",
    "Your answer is correct.\n",
    "The correct answer is: ['banana','apple','watermelon','pear','peach']\n",
    "Question 15\n",
    "Correct\n",
    "Mark 1.00 out of 1.00\n",
    "Flag question\n",
    "Question text\n",
    "Consider the code:\n",
    "def increment_items(L,increment):\n",
    "\ti=0\n",
    "\twhile i < len(L):\n",
    "\t\tL[i] = L[i] + increment\n",
    "\t\ti = i + 1\n",
    "values = [1,2,3]\n",
    "print(increment_items(values,2))\n",
    "print(values)\n",
    "What is printed by the program above?\n",
    "Select one:\n",
    "None\n",
    "   [3,4,5] \n",
    "[3,4,5]\n",
    "   None \n",
    "[3,4,5]\n",
    "   [1,2,3] \n",
    "None\n",
    "   [1,2,3] \n",
    "Feedback\n",
    "Your answer is correct.\n",
    "The correct answer is: None\n",
    "   [3,4,5]\n",
    "Question 16\n",
    "Correct\n",
    "Mark 1.00 out of 1.00\n",
    "Flag question\n",
    "Question text\n",
    "Select the code fragments that print [3,6,9].\n",
    "Select one or more:\n",
    "values = []\n",
    "   for num in range(3,10,3):\n",
    "\tvalues.append(num)\n",
    "   print(values) \n",
    "values = []\n",
    "   for num in range(1,3):\n",
    "   \tvalues.append(num * 3)\n",
    "   print(values) \n",
    "values = []\n",
    "   for num in range(1,4):\n",
    "\tvalues.append(num * 3)\n",
    "   print(values) \n",
    "values = []\n",
    "   for num in range(3,9,3):\n",
    "\tvalues.append(num)\n",
    "   print(values) \n",
    "Feedback\n",
    "Your answer is correct.\n",
    "The correct answers are: values = []\n",
    "   for num in range(1,4):\n",
    "\tvalues.append(num * 3)\n",
    "   print(values), values = []\n",
    "   for num in range(3,10,3):\n",
    "\tvalues.append(num)\n",
    "   print(values)\n",
    "Question 17\n",
    "Incorrect\n",
    "Mark 0.00 out of 1.00\n",
    "Flag question\n",
    "Question text\n",
    "Consider the code:\n",
    "d = {'a':1,'b':2}\n",
    "# CODE MISSING HERE \n",
    "d\n",
    "{'a':1,'c':3,'b':2}\n",
    "Write the missing assignment statement that modifies the dictionary as shown. \n",
    "Select one:\n",
    "d[1]={'c':3} \n",
    "d['c'] = 3 \n",
    "d[c] = 3 \n",
    "d.insert(1,('c':3)) \n",
    "Feedback\n",
    "Your answer is incorrect.\n",
    "The correct answer is: d['c'] = 3\n",
    "Question 18\n",
    "Correct\n",
    "Mark 1.00 out of 1.00\n",
    "Flag question\n",
    "Question text\n",
    "Consider the code:\n",
    "d = {'a':[1,3],'b':[5,7,9],'c':[11]}\n",
    "Select the expressions that evaluate to 3.\n",
    "Select one or more:\n",
    "len(d) - 3 \n",
    "len(d['a'+'c']) \n",
    "len(d['b']) \n",
    "len(d) \n",
    "Feedback\n",
    "Your answer is correct.\n",
    "The correct answers are: len(d), len(d['b'])\n",
    "Question 19\n",
    "Correct\n",
    "Mark 1.00 out of 1.00\n",
    "Flag question\n",
    "Question text\n",
    "Consider the code:\n",
    "tup = (1,2,3)\n",
    "Select the statements below that results in an error.\n",
    "Select one or more:\n",
    "tup.reverse() \n",
    "tup[0:2] == (10,30) \n",
    "subtup = tup[0:2] \n",
    "tup[-2]=4 \n",
    "Feedback\n",
    "Your answer is correct.\n",
    "The correct answers are: tup.reverse(), tup[-2]=4\n",
    "Question 20\n",
    "Correct\n",
    "Mark 1.00 out of 1.00\n",
    "Flag question\n",
    "Question text\n",
    "Consider the code:\n",
    "d={1:['a','b','c'], 2:['d','e'], 3:[]}\n",
    "Select the code fragments that set variable total to the number of items in all the lists that occur as values in d.\n",
    "Select one or more:\n",
    "L = []\n",
    "   for k in d:\n",
    "       L.append(k)\n",
    "   total = len(L) \n",
    "L = []\n",
    "   for k in d:\n",
    "\tL.extend(d[k])\n",
    "   total= len(L) \n",
    "total = 0\n",
    "   for k in d:\n",
    "       total = total + len(d[k]) \n",
    "total = 0\n",
    "   for k in d:\n",
    "       total = total + k \n",
    "Feedback\n",
    "Your answer is correct.\n",
    "The correct answers are: L = []\n",
    "   for k in d:\n",
    "\tL.extend(d[k])\n",
    "   total= len(L), total = 0\n",
    "   for k in d:\n",
    "       total = total + len(d[k])\n",
    "Question 21\n",
    "Incorrect\n",
    "Mark 0.00 out of 1.00\n",
    "Flag question\n",
    "Question text\n",
    "The dictionary d has 3 keys that are all the same as shown:\n",
    "d = {1:10,1:20,1:30}\n",
    "What the code above evaluates to: \n",
    "Select one:\n",
    "Syntax Error \n",
    "{1:60} \n",
    "{1:10} \n",
    "{1:30} \n",
    "Feedback\n",
    "Your answer is incorrect.\n",
    "The correct answer is: {1:30}\n",
    "Question 22\n",
    "Incorrect\n",
    "Mark 0.00 out of 1.00\n",
    "Flag question\n",
    "Question text\n",
    "Consider a list:\n",
    "list1 = [1,3,2] \n",
    "What will be the output of the statement list1*2 ?\n",
    "Select one:\n",
    "[1,2,3,1,2,3] \n",
    "[2,3,4] \n",
    "[1,1,3,3,2,2] \n",
    "[1,3,2,1,3,2] \n",
    "Feedback\n",
    "Your answer is incorrect.\n",
    "The correct answer is: [1,3,2,1,3,2]\n",
    "Question 23\n",
    "Correct\n",
    "Mark 1.00 out of 1.00\n",
    "Flag question\n",
    "Question text\n",
    "What is the output of the following piece of code?\n",
    "d={1:\"a\",2:\"b\",3:\"c\",4:\"d\"}\n",
    "print(d.get(1,4))\n",
    "Select one:\n",
    "'a' \n",
    "'d' \n",
    "4 \n",
    "1 \n",
    "Feedback\n",
    "Your answer is correct.\n",
    "The correct answer is: 'a'\n",
    "Question 24\n",
    "Incorrect\n",
    "Mark 0.00 out of 1.00\n",
    "Flag question\n",
    "Question text\n",
    "What is the output of the following snippet of code?\n",
    "total={}\n",
    "def insert(items):\n",
    "    if items in total:\n",
    "        total[items] += 1\n",
    "    else:\n",
    "        total[items] = 1\n",
    "insert('Apple')\n",
    "insert('Ball')\n",
    "insert('Apple')\n",
    "print (len(total))\n",
    "Select one:\n",
    "2 \n",
    "3 \n",
    "1 \n",
    "0 \n",
    "Feedback\n",
    "Your answer is incorrect.\n",
    "The correct answer is: 2\n",
    "Question 25\n",
    "Incorrect\n",
    "Mark 0.00 out of 1.00\n",
    "Flag question\n",
    "Question text\n",
    "What is the output of the following piece of code?\n",
    "def fun(b):\n",
    "    b = b + [5]\n",
    " \n",
    "c = [1, 2, 3]\n",
    "fun(c)\n",
    "print(len(c))\n",
    "Select one:\n",
    "2 \n",
    "4 \n",
    "3 \n",
    "1 \n",
    "Feedback\n",
    "Your answer is incorrect.\n",
    "The correct answer is: 4\n",
    "Question 26\n",
    "Incorrect\n",
    "Mark 0.00 out of 1.00\n",
    "Flag question\n",
    "Question text\n",
    "Consider the code:\n",
    "values = [[3, 4, 5, 1], [33, 6, 1, 2]]\n",
    "v = values[0][0]\n",
    "for lst in values:\n",
    "    for element in lst:\n",
    "        if v > element:\n",
    "            v = element\n",
    "What will be the value of v?\n",
    "Select one:\n",
    "None \n",
    "1 \n",
    "3 \n",
    "2 \n",
    "Feedback\n",
    "Your answer is incorrect.\n",
    "The correct answer is: 1\n",
    "Question 27\n",
    "Correct\n",
    "Mark 1.00 out of 1.00\n",
    "Flag question\n",
    "Question text\n",
    "Does the assignment statement a = 1,2,3,4,5 is correct? If yes, what will be the output?\n",
    "Select one:\n",
    "No, can't assign multiple values to a variable. \n",
    "Yes, the variable a is assigned with (1,2,3,4,5). \n",
    "Yes, the variable a is assigned with [1,2,3,4,5]. \n",
    "Yes, the variable a is assigned a value 1. \n",
    "Feedback\n",
    "Your answer is correct.\n",
    "The correct answer is: Yes, the variable a is assigned with (1,2,3,4,5).\n",
    "Question 28\n",
    "Correct\n",
    "Mark 1.00 out of 1.00\n",
    "Flag question\n",
    "Question text\n",
    "What is the output of the following piece of code?\n",
    "a={'B':5,'A':9,'C':7}\n",
    "sorted(a)\n",
    "Select one:\n",
    "['A':9,'B':5,'C':7] \n",
    "['A:9','B:5','C:7'] \n",
    "['A','B','C'] \n",
    "['A':5, 'B':9, 'C':7] \n",
    "Feedback\n",
    "Your answer is correct.\n",
    "The correct answer is: ['A','B','C']\n",
    "Question 29\n",
    "Incorrect\n",
    "Mark 0.00 out of 1.00\n",
    "Flag question\n",
    "Question text\n",
    "What is the output of the following code?\n",
    "a={\"a\":1,\"b\":2,\"c\":3}\n",
    "b=dict(zip(a.values(),a.keys()))\n",
    "b\n",
    "Select one:\n",
    "{‘a’: 1, ‘b’: 2, ‘c’: 3} \n",
    "{1: ‘a’, 2: ‘b’, 3: ‘c’} \n",
    "Key error \n",
    "{(1:‘a’), (2:‘b’), (3:‘c’)} \n",
    "Feedback\n",
    "Your answer is incorrect.\n",
    "The correct answer is: {1: ‘a’, 2: ‘b’, 3: ‘c’}\n",
    "Question 30\n",
    "Correct\n",
    "Mark 1.00 out of 1.00\n",
    "Flag question\n",
    "Question text\n",
    "Consider the code:\n",
    "t1 = ('Parth','Puja','Amit')\n",
    "t2 = ('Pari', 'Punit', 'Amita')\n",
    "t1 > t2\n",
    "The above code evaluates to:\n",
    "Select one:\n",
    "False \n",
    "None \n",
    "True \n",
    "Error \n",
    "Feedback\n",
    "Your answer is correct.\n",
    "The correct answer is: True"
   ]
  }
 ],
 "metadata": {
  "kernelspec": {
   "display_name": "Python 3",
   "language": "python",
   "name": "python3"
  },
  "language_info": {
   "codemirror_mode": {
    "name": "ipython",
    "version": 3
   },
   "file_extension": ".py",
   "mimetype": "text/x-python",
   "name": "python",
   "nbconvert_exporter": "python",
   "pygments_lexer": "ipython3",
   "version": "3.7.4"
  }
 },
 "nbformat": 4,
 "nbformat_minor": 2
}
